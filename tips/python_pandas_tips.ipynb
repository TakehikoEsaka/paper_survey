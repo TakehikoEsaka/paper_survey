{
 "cells": [
  {
   "cell_type": "code",
   "execution_count": 6,
   "metadata": {},
   "outputs": [],
   "source": [
    "import numpy as np\n",
    "import pandas as pd \n",
    "import os\n",
    "import glob\n",
    "import matplotlib.pyplot as plt\n",
    "%matplotlib inline\n",
    "import seaborn as sns\n",
    "from sklearn.model_selection import train_test_split\n",
    "\n",
    "import warnings\n",
    "warnings.filterwarnings('ignore')"
   ]
  },
  {
   "cell_type": "code",
   "execution_count": 12,
   "metadata": {},
   "outputs": [],
   "source": [
    "df = pd.read_csv('https://archive.ics.uci.edu/ml/machine-learning-databases/housing/housing.data', header=None, sep='\\s+')\n",
    "df.columns = ['CRIM','ZN', 'INDUS', 'CHAS', 'NOX', 'RM', 'AGE', 'DIS', 'RAD', 'TAX', 'PTRATIO', 'B', 'LSTAT', 'MEDV']\n",
    "df, df_test = train_test_split(df)\n",
    "\n",
    "X = df.iloc[:, 0:13]\n",
    "X_test = df_test.iloc[:, 0:13]\n",
    "\n",
    "Y = df['MEDV'] #TARGET：平均価格\n",
    "Y_test = df_test['MEDV']"
   ]
  },
  {
   "cell_type": "code",
   "execution_count": null,
   "metadata": {},
   "outputs": [],
   "source": []
  },
  {
   "cell_type": "markdown",
   "metadata": {},
   "source": [
    "TIPS 0\n",
    "問：カテゴリ変数を無理やり作るために，CHAS(クラス2つ)とRAD(クラス9つ)を置き換えよ．"
   ]
  },
  {
   "cell_type": "code",
   "execution_count": 13,
   "metadata": {},
   "outputs": [],
   "source": [
    "# loc, ilocでブールインデックス参照\n",
    "X[\"CHAS\"].loc[X[\"CHAS\"] == 0] = \"apple\"\n",
    "X[\"CHAS\"].loc[X[\"CHAS\"] == 1] = \"banana\"\n",
    "\n",
    "X_test[\"CHAS\"].loc[X_test[\"CHAS\"] == 0] = \"apple\"\n",
    "X_test[\"CHAS\"].loc[X_test[\"CHAS\"] == 1] = \"banana\"\n",
    "\n",
    "for i in X[\"RAD\"].unique():\n",
    "    X[\"RAD\"].loc[X[\"RAD\"] == i] = \"koreha-{}\".format(i)\n",
    "    X_test[\"RAD\"].loc[X_test[\"RAD\"] == i] = \"koreha-{}\".format(i)\n",
    "    \n",
    "# 他にもmaskやwhere関数があるが，今はここで止めとく"
   ]
  },
  {
   "cell_type": "code",
   "execution_count": null,
   "metadata": {},
   "outputs": [],
   "source": []
  },
  {
   "cell_type": "markdown",
   "metadata": {},
   "source": [
    "TIPS 1\n",
    "- 問：カラムのタイプを数えよう\n",
    "- 問：CHASのカテゴリ変数のデータの数をカウントせよ"
   ]
  },
  {
   "cell_type": "code",
   "execution_count": 4,
   "metadata": {},
   "outputs": [
    {
     "data": {
      "text/plain": [
       "float64    11\n",
       "object      2\n",
       "dtype: int64"
      ]
     },
     "execution_count": 4,
     "metadata": {},
     "output_type": "execute_result"
    }
   ],
   "source": [
    "X.dtypes.value_counts()"
   ]
  },
  {
   "cell_type": "code",
   "execution_count": 5,
   "metadata": {},
   "outputs": [
    {
     "data": {
      "text/plain": [
       "apple     350\n",
       "banana     29\n",
       "Name: CHAS, dtype: int64"
      ]
     },
     "execution_count": 5,
     "metadata": {},
     "output_type": "execute_result"
    }
   ],
   "source": [
    "X[\"CHAS\"].value_counts()"
   ]
  },
  {
   "cell_type": "markdown",
   "metadata": {},
   "source": []
  },
  {
   "cell_type": "code",
   "execution_count": 6,
   "metadata": {
    "scrolled": true
   },
   "outputs": [
    {
     "data": {
      "text/plain": [
       "(array([350.,   0.,   0.,   0.,   0.,   0.,   0.,   0.,   0.,  29.]),\n",
       " array([0. , 0.1, 0.2, 0.3, 0.4, 0.5, 0.6, 0.7, 0.8, 0.9, 1. ]),\n",
       " <a list of 10 Patch objects>)"
      ]
     },
     "execution_count": 6,
     "metadata": {},
     "output_type": "execute_result"
    },
    {
     "data": {
      "image/png": "[encoded data removed]",
      "text/plain": [
       "<Figure size 432x288 with 1 Axes>"
      ]
     },
     "metadata": {
      "needs_background": "light"
     },
     "output_type": "display_data"
    }
   ],
   "source": [
    "plt.hist(X[\"CHAS\"])"
   ]
  },
  {
   "cell_type": "code",
   "execution_count": null,
   "metadata": {},
   "outputs": [],
   "source": []
  },
  {
   "cell_type": "code",
   "execution_count": null,
   "metadata": {},
   "outputs": [],
   "source": []
  },
  {
   "cell_type": "markdown",
   "metadata": {},
   "source": [
    "TIPS 2\n",
    "・問：欠損値の割合を見て昇順に並べ替える．"
   ]
  },
  {
   "cell_type": "code",
   "execution_count": 7,
   "metadata": {},
   "outputs": [
    {
     "data": {
      "text/plain": [
       "LSTAT      0.0\n",
       "B          0.0\n",
       "PTRATIO    0.0\n",
       "TAX        0.0\n",
       "RAD        0.0\n",
       "DIS        0.0\n",
       "AGE        0.0\n",
       "RM         0.0\n",
       "NOX        0.0\n",
       "CHAS       0.0\n",
       "INDUS      0.0\n",
       "ZN         0.0\n",
       "CRIM       0.0\n",
       "Name: Missing Values Rate, dtype: float64"
      ]
     },
     "execution_count": 7,
     "metadata": {},
     "output_type": "execute_result"
    }
   ],
   "source": [
    "tmp = X.isnull().sum() / len(X)\n",
    "tmp = tmp.rename('Missing Values Rate')\n",
    "tmp.sort_values(ascending = False)"
   ]
  },
  {
   "cell_type": "code",
   "execution_count": null,
   "metadata": {},
   "outputs": [],
   "source": []
  },
  {
   "cell_type": "markdown",
   "metadata": {},
   "source": [
    "問：object変数でユニークな値が何個あるか調査"
   ]
  },
  {
   "cell_type": "code",
   "execution_count": 8,
   "metadata": {},
   "outputs": [
    {
     "data": {
      "text/plain": [
       "Series([], dtype: float64)"
      ]
     },
     "execution_count": 8,
     "metadata": {},
     "output_type": "execute_result"
    }
   ],
   "source": [
    "# axis = 0が列方向になる\n",
    "# apply関数がある関数を実行する為のpandas関数\n",
    "# select_dtypes()でデータ型を取得する事が出来る．\n",
    "X.select_dtypes(\"int64\").apply(pd.Series.nunique, axis = 0)"
   ]
  },
  {
   "cell_type": "code",
   "execution_count": null,
   "metadata": {},
   "outputs": [],
   "source": []
  },
  {
   "cell_type": "markdown",
   "metadata": {},
   "source": [
    "問：<br>\n",
    "・カテゴリクラスが1 or 2のものはLableEncoding <br>\n",
    "・カテゴリクラスが3以上のものはOne hot Vectorに変換せよ"
   ]
  },
  {
   "cell_type": "code",
   "execution_count": 9,
   "metadata": {},
   "outputs": [
    {
     "name": "stdout",
     "output_type": "stream",
     "text": [
      "1 columns are label encoded\n"
     ]
    }
   ],
   "source": [
    "# Label Encoding\n",
    "from sklearn.preprocessing import LabelEncoder\n",
    "\n",
    "# Create a label encoder object\n",
    "le = LabelEncoder()\n",
    "le_count = 0\n",
    "\n",
    "for col in X.select_dtypes(\"object\"):\n",
    "    if len(X[col].unique()) <= 2:\n",
    "        le.fit(X[col])\n",
    "        X[col] = le.transform(X[col])\n",
    "        \n",
    "        le.fit(X_test[col])\n",
    "        X_test[col] = le.transform(X_test[col])\n",
    "        \n",
    "        le_count = le_count + 1\n",
    "\n",
    "print(\"{} columns are label encoded\".format(le_count))"
   ]
  },
  {
   "cell_type": "code",
   "execution_count": 10,
   "metadata": {},
   "outputs": [],
   "source": [
    "# one hot vector\n",
    "# （objectのカテゴリ変数の数 * 各unique数）だけ，カラムが増える．\n",
    "X = pd.get_dummies(X)\n",
    "X_test = pd.get_dummies(X_test)"
   ]
  },
  {
   "cell_type": "markdown",
   "metadata": {},
   "source": [
    "問：Training Dataに存在し，Test Dataに含まれるデータをAlignせよ"
   ]
  },
  {
   "cell_type": "code",
   "execution_count": 11,
   "metadata": {},
   "outputs": [],
   "source": [
    "# inner : 共通部分を残す．(outerだと全ての要素を残すことになる) \n",
    "X, X_test = X.align(X_test, join = 'inner', axis = 1)"
   ]
  },
  {
   "cell_type": "code",
   "execution_count": null,
   "metadata": {},
   "outputs": [],
   "source": []
  },
  {
   "cell_type": "markdown",
   "metadata": {},
   "source": [
    "問：X[\"CHAS\"]の統計値を取得せよ"
   ]
  },
  {
   "cell_type": "code",
   "execution_count": 12,
   "metadata": {},
   "outputs": [
    {
     "data": {
      "text/plain": [
       "count    379.000000\n",
       "mean       0.076517\n",
       "std        0.266175\n",
       "min        0.000000\n",
       "25%        0.000000\n",
       "50%        0.000000\n",
       "75%        0.000000\n",
       "max        1.000000\n",
       "Name: CHAS, dtype: float64"
      ]
     },
     "execution_count": 12,
     "metadata": {},
     "output_type": "execute_result"
    }
   ],
   "source": [
    "X[\"CHAS\"].describe()"
   ]
  },
  {
   "cell_type": "code",
   "execution_count": null,
   "metadata": {},
   "outputs": [],
   "source": []
  },
  {
   "cell_type": "markdown",
   "metadata": {},
   "source": [
    "問：\n",
    "ターゲットと[\"CHAS\"]の間の相関係数を求めよ<br>\n",
    "ターゲットに対する全特徴変数の相関係数を求めよ．<br>\n",
    "また，その上位5つの特徴量同士の相関係数を導出して，correlation mapを描け"
   ]
  },
  {
   "cell_type": "code",
   "execution_count": 95,
   "metadata": {},
   "outputs": [
    {
     "data": {
      "text/plain": [
       "0.03644539781255701"
      ]
     },
     "execution_count": 95,
     "metadata": {},
     "output_type": "execute_result"
    }
   ],
   "source": [
    "train[\"MEDV\"].corr(train[\"CHAS\"])"
   ]
  },
  {
   "cell_type": "code",
   "execution_count": 88,
   "metadata": {},
   "outputs": [],
   "source": [
    "train = pd.concat([X, Y], axis = 1)\n",
    "test = pd.concat([X_test, Y_test], axis = 1)"
   ]
  },
  {
   "cell_type": "code",
   "execution_count": 14,
   "metadata": {},
   "outputs": [
    {
     "data": {
      "text/plain": [
       "MEDV             1.000000\n",
       "LSTAT            0.741381\n",
       "RM               0.670661\n",
       "PTRATIO          0.484464\n",
       "INDUS            0.453046\n",
       "TAX              0.448134\n",
       "NOX              0.429183\n",
       "CRIM             0.401034\n",
       "AGE              0.375591\n",
       "RAD_koreha-24    0.367492\n",
       "ZN               0.349783\n",
       "B                0.317181\n",
       "DIS              0.230411\n",
       "CHAS             0.196256\n",
       "RAD_koreha-8     0.187010\n",
       "RAD_koreha-5     0.179926\n",
       "RAD_koreha-3     0.175696\n",
       "RAD_koreha-4     0.089906\n",
       "RAD_koreha-2     0.088631\n",
       "RAD_koreha-7     0.085660\n",
       "RAD_koreha-6     0.040969\n",
       "RAD_koreha-1     0.034968\n",
       "Name: MEDV, dtype: float64"
      ]
     },
     "execution_count": 14,
     "metadata": {},
     "output_type": "execute_result"
    }
   ],
   "source": [
    "abs(train.corr()[\"MEDV\"]).sort_values(ascending = False)"
   ]
  },
  {
   "cell_type": "code",
   "execution_count": 15,
   "metadata": {},
   "outputs": [],
   "source": [
    "import seaborn as sns"
   ]
  },
  {
   "cell_type": "code",
   "execution_count": 17,
   "metadata": {},
   "outputs": [
    {
     "data": {
      "text/plain": [
       "<matplotlib.axes._subplots.AxesSubplot at 0x7f5b606cbdd8>"
      ]
     },
     "execution_count": 17,
     "metadata": {},
     "output_type": "execute_result"
    },
    {
     "data": {
      "image/png": "[encoded data removed]",
      "text/plain": [
       "<Figure size 432x288 with 2 Axes>"
      ]
     },
     "metadata": {
      "needs_background": "light"
     },
     "output_type": "display_data"
    }
   ],
   "source": [
    "top5_feature = X[[\"LSTAT\", \"RM\", \"PTRATIO\", \"INDUS\", \"NOX\"]]\n",
    "sns.heatmap(top5_feature.corr(), cmap = plt.cm.RdYlBu_r, vmin = -0.25, annot = True, vmax = 0.6)"
   ]
  },
  {
   "cell_type": "code",
   "execution_count": null,
   "metadata": {},
   "outputs": [],
   "source": []
  },
  {
   "cell_type": "markdown",
   "metadata": {},
   "source": [
    "問：データをbinしよう"
   ]
  },
  {
   "cell_type": "code",
   "execution_count": 18,
   "metadata": {},
   "outputs": [
    {
     "data": {
      "text/plain": [
       "CRIM             378\n",
       "ZN                25\n",
       "INDUS             71\n",
       "CHAS               2\n",
       "NOX               79\n",
       "RM               342\n",
       "AGE              277\n",
       "DIS              322\n",
       "TAX               61\n",
       "PTRATIO           45\n",
       "B                273\n",
       "LSTAT            353\n",
       "RAD_koreha-1       2\n",
       "RAD_koreha-2       2\n",
       "RAD_koreha-24      2\n",
       "RAD_koreha-3       2\n",
       "RAD_koreha-4       2\n",
       "RAD_koreha-5       2\n",
       "RAD_koreha-6       2\n",
       "RAD_koreha-7       2\n",
       "RAD_koreha-8       2\n",
       "dtype: int64"
      ]
     },
     "execution_count": 18,
     "metadata": {},
     "output_type": "execute_result"
    }
   ],
   "source": [
    "X.apply(pd.Series.nunique, axis = 0)"
   ]
  },
  {
   "cell_type": "code",
   "execution_count": 19,
   "metadata": {},
   "outputs": [
    {
     "data": {
      "text/html": [
       "<div>\n",
       "<style scoped>\n",
       "    .dataframe tbody tr th:only-of-type {\n",
       "        vertical-align: middle;\n",
       "    }\n",
       "\n",
       "    .dataframe tbody tr th {\n",
       "        vertical-align: top;\n",
       "    }\n",
       "\n",
       "    .dataframe thead th {\n",
       "        text-align: right;\n",
       "    }\n",
       "</style>\n",
       "<table border=\"1\" class=\"dataframe\">\n",
       "  <thead>\n",
       "    <tr style=\"text-align: right;\">\n",
       "      <th></th>\n",
       "      <th>CRIM</th>\n",
       "      <th>CRIM_bins</th>\n",
       "    </tr>\n",
       "  </thead>\n",
       "  <tbody>\n",
       "    <tr>\n",
       "      <th>140</th>\n",
       "      <td>0.29090</td>\n",
       "      <td>(-0.0616, 6.798]</td>\n",
       "    </tr>\n",
       "    <tr>\n",
       "      <th>206</th>\n",
       "      <td>0.22969</td>\n",
       "      <td>(-0.0616, 6.798]</td>\n",
       "    </tr>\n",
       "    <tr>\n",
       "      <th>256</th>\n",
       "      <td>0.01538</td>\n",
       "      <td>(-0.0616, 6.798]</td>\n",
       "    </tr>\n",
       "    <tr>\n",
       "      <th>170</th>\n",
       "      <td>1.20742</td>\n",
       "      <td>(-0.0616, 6.798]</td>\n",
       "    </tr>\n",
       "    <tr>\n",
       "      <th>71</th>\n",
       "      <td>0.15876</td>\n",
       "      <td>(-0.0616, 6.798]</td>\n",
       "    </tr>\n",
       "  </tbody>\n",
       "</table>\n",
       "</div>"
      ],
      "text/plain": [
       "        CRIM         CRIM_bins\n",
       "140  0.29090  (-0.0616, 6.798]\n",
       "206  0.22969  (-0.0616, 6.798]\n",
       "256  0.01538  (-0.0616, 6.798]\n",
       "170  1.20742  (-0.0616, 6.798]\n",
       "71   0.15876  (-0.0616, 6.798]"
      ]
     },
     "execution_count": 19,
     "metadata": {},
     "output_type": "execute_result"
    }
   ],
   "source": [
    "# [[ ]]でpandasのDataFrame型，[]ならpandasのDataSeries型が使える\n",
    "X_CRIM = X[[\"CRIM\"]]\n",
    "X_CRIM[\"CRIM_bins\"] = pd.cut(X_CRIM[\"CRIM\"], bins = 10)\n",
    "X_CRIM.head()"
   ]
  },
  {
   "cell_type": "code",
   "execution_count": null,
   "metadata": {},
   "outputs": [],
   "source": []
  },
  {
   "cell_type": "markdown",
   "metadata": {},
   "source": [
    "問：指定したカラムでグループ分けして統計値を取得せよ"
   ]
  },
  {
   "cell_type": "code",
   "execution_count": 20,
   "metadata": {},
   "outputs": [
    {
     "data": {
      "text/html": [
       "<div>\n",
       "<style scoped>\n",
       "    .dataframe tbody tr th:only-of-type {\n",
       "        vertical-align: middle;\n",
       "    }\n",
       "\n",
       "    .dataframe tbody tr th {\n",
       "        vertical-align: top;\n",
       "    }\n",
       "\n",
       "    .dataframe thead tr th {\n",
       "        text-align: left;\n",
       "    }\n",
       "\n",
       "    .dataframe thead tr:last-of-type th {\n",
       "        text-align: right;\n",
       "    }\n",
       "</style>\n",
       "<table border=\"1\" class=\"dataframe\">\n",
       "  <thead>\n",
       "    <tr>\n",
       "      <th></th>\n",
       "      <th colspan=\"8\" halign=\"left\">CRIM</th>\n",
       "    </tr>\n",
       "    <tr>\n",
       "      <th></th>\n",
       "      <th>count</th>\n",
       "      <th>mean</th>\n",
       "      <th>std</th>\n",
       "      <th>min</th>\n",
       "      <th>25%</th>\n",
       "      <th>50%</th>\n",
       "      <th>75%</th>\n",
       "      <th>max</th>\n",
       "    </tr>\n",
       "    <tr>\n",
       "      <th>CRIM_bins</th>\n",
       "      <th></th>\n",
       "      <th></th>\n",
       "      <th></th>\n",
       "      <th></th>\n",
       "      <th></th>\n",
       "      <th></th>\n",
       "      <th></th>\n",
       "      <th></th>\n",
       "    </tr>\n",
       "  </thead>\n",
       "  <tbody>\n",
       "    <tr>\n",
       "      <th>(-0.0616, 6.798]</th>\n",
       "      <td>313.0</td>\n",
       "      <td>0.782034</td>\n",
       "      <td>1.419449</td>\n",
       "      <td>0.00632</td>\n",
       "      <td>0.064660</td>\n",
       "      <td>0.16760</td>\n",
       "      <td>0.627390</td>\n",
       "      <td>6.71772</td>\n",
       "    </tr>\n",
       "    <tr>\n",
       "      <th>(6.798, 13.589]</th>\n",
       "      <td>39.0</td>\n",
       "      <td>9.594272</td>\n",
       "      <td>1.856453</td>\n",
       "      <td>6.80117</td>\n",
       "      <td>8.128185</td>\n",
       "      <td>9.39063</td>\n",
       "      <td>10.753000</td>\n",
       "      <td>13.52220</td>\n",
       "    </tr>\n",
       "    <tr>\n",
       "      <th>(13.589, 20.381]</th>\n",
       "      <td>15.0</td>\n",
       "      <td>16.157667</td>\n",
       "      <td>2.123976</td>\n",
       "      <td>13.67810</td>\n",
       "      <td>14.386000</td>\n",
       "      <td>15.57570</td>\n",
       "      <td>17.975650</td>\n",
       "      <td>20.08490</td>\n",
       "    </tr>\n",
       "    <tr>\n",
       "      <th>(20.381, 27.172]</th>\n",
       "      <td>7.0</td>\n",
       "      <td>23.649514</td>\n",
       "      <td>1.886260</td>\n",
       "      <td>20.71620</td>\n",
       "      <td>22.324100</td>\n",
       "      <td>24.39380</td>\n",
       "      <td>24.923900</td>\n",
       "      <td>25.94060</td>\n",
       "    </tr>\n",
       "    <tr>\n",
       "      <th>(27.172, 33.964]</th>\n",
       "      <td>1.0</td>\n",
       "      <td>28.655800</td>\n",
       "      <td>NaN</td>\n",
       "      <td>28.65580</td>\n",
       "      <td>28.655800</td>\n",
       "      <td>28.65580</td>\n",
       "      <td>28.655800</td>\n",
       "      <td>28.65580</td>\n",
       "    </tr>\n",
       "    <tr>\n",
       "      <th>(33.964, 40.755]</th>\n",
       "      <td>0.0</td>\n",
       "      <td>NaN</td>\n",
       "      <td>NaN</td>\n",
       "      <td>NaN</td>\n",
       "      <td>NaN</td>\n",
       "      <td>NaN</td>\n",
       "      <td>NaN</td>\n",
       "      <td>NaN</td>\n",
       "    </tr>\n",
       "    <tr>\n",
       "      <th>(40.755, 47.546]</th>\n",
       "      <td>2.0</td>\n",
       "      <td>43.637650</td>\n",
       "      <td>2.981799</td>\n",
       "      <td>41.52920</td>\n",
       "      <td>42.583425</td>\n",
       "      <td>43.63765</td>\n",
       "      <td>44.691875</td>\n",
       "      <td>45.74610</td>\n",
       "    </tr>\n",
       "    <tr>\n",
       "      <th>(47.546, 54.338]</th>\n",
       "      <td>1.0</td>\n",
       "      <td>51.135800</td>\n",
       "      <td>NaN</td>\n",
       "      <td>51.13580</td>\n",
       "      <td>51.135800</td>\n",
       "      <td>51.13580</td>\n",
       "      <td>51.135800</td>\n",
       "      <td>51.13580</td>\n",
       "    </tr>\n",
       "    <tr>\n",
       "      <th>(54.338, 61.129]</th>\n",
       "      <td>0.0</td>\n",
       "      <td>NaN</td>\n",
       "      <td>NaN</td>\n",
       "      <td>NaN</td>\n",
       "      <td>NaN</td>\n",
       "      <td>NaN</td>\n",
       "      <td>NaN</td>\n",
       "      <td>NaN</td>\n",
       "    </tr>\n",
       "    <tr>\n",
       "      <th>(61.129, 67.921]</th>\n",
       "      <td>1.0</td>\n",
       "      <td>67.920800</td>\n",
       "      <td>NaN</td>\n",
       "      <td>67.92080</td>\n",
       "      <td>67.920800</td>\n",
       "      <td>67.92080</td>\n",
       "      <td>67.920800</td>\n",
       "      <td>67.92080</td>\n",
       "    </tr>\n",
       "  </tbody>\n",
       "</table>\n",
       "</div>"
      ],
      "text/plain": [
       "                   CRIM                                                      \\\n",
       "                  count       mean       std       min        25%       50%   \n",
       "CRIM_bins                                                                     \n",
       "(-0.0616, 6.798]  313.0   0.782034  1.419449   0.00632   0.064660   0.16760   \n",
       "(6.798, 13.589]    39.0   9.594272  1.856453   6.80117   8.128185   9.39063   \n",
       "(13.589, 20.381]   15.0  16.157667  2.123976  13.67810  14.386000  15.57570   \n",
       "(20.381, 27.172]    7.0  23.649514  1.886260  20.71620  22.324100  24.39380   \n",
       "(27.172, 33.964]    1.0  28.655800       NaN  28.65580  28.655800  28.65580   \n",
       "(33.964, 40.755]    0.0        NaN       NaN       NaN        NaN       NaN   \n",
       "(40.755, 47.546]    2.0  43.637650  2.981799  41.52920  42.583425  43.63765   \n",
       "(47.546, 54.338]    1.0  51.135800       NaN  51.13580  51.135800  51.13580   \n",
       "(54.338, 61.129]    0.0        NaN       NaN       NaN        NaN       NaN   \n",
       "(61.129, 67.921]    1.0  67.920800       NaN  67.92080  67.920800  67.92080   \n",
       "\n",
       "                                       \n",
       "                        75%       max  \n",
       "CRIM_bins                              \n",
       "(-0.0616, 6.798]   0.627390   6.71772  \n",
       "(6.798, 13.589]   10.753000  13.52220  \n",
       "(13.589, 20.381]  17.975650  20.08490  \n",
       "(20.381, 27.172]  24.923900  25.94060  \n",
       "(27.172, 33.964]  28.655800  28.65580  \n",
       "(33.964, 40.755]        NaN       NaN  \n",
       "(40.755, 47.546]  44.691875  45.74610  \n",
       "(47.546, 54.338]  51.135800  51.13580  \n",
       "(54.338, 61.129]        NaN       NaN  \n",
       "(61.129, 67.921]  67.920800  67.92080  "
      ]
     },
     "execution_count": 20,
     "metadata": {},
     "output_type": "execute_result"
    }
   ],
   "source": [
    "X_CRIM.groupby(\"CRIM_bins\").describe()"
   ]
  },
  {
   "cell_type": "code",
   "execution_count": null,
   "metadata": {},
   "outputs": [],
   "source": []
  },
  {
   "cell_type": "markdown",
   "metadata": {},
   "source": [
    "問：指定したカラムを取り除こう"
   ]
  },
  {
   "cell_type": "code",
   "execution_count": 21,
   "metadata": {},
   "outputs": [
    {
     "data": {
      "text/html": [
       "<div>\n",
       "<style scoped>\n",
       "    .dataframe tbody tr th:only-of-type {\n",
       "        vertical-align: middle;\n",
       "    }\n",
       "\n",
       "    .dataframe tbody tr th {\n",
       "        vertical-align: top;\n",
       "    }\n",
       "\n",
       "    .dataframe thead th {\n",
       "        text-align: right;\n",
       "    }\n",
       "</style>\n",
       "<table border=\"1\" class=\"dataframe\">\n",
       "  <thead>\n",
       "    <tr style=\"text-align: right;\">\n",
       "      <th></th>\n",
       "      <th>ZN</th>\n",
       "      <th>INDUS</th>\n",
       "      <th>CHAS</th>\n",
       "      <th>NOX</th>\n",
       "      <th>RM</th>\n",
       "      <th>AGE</th>\n",
       "      <th>DIS</th>\n",
       "      <th>TAX</th>\n",
       "      <th>PTRATIO</th>\n",
       "      <th>B</th>\n",
       "      <th>LSTAT</th>\n",
       "      <th>RAD_koreha-1</th>\n",
       "      <th>RAD_koreha-2</th>\n",
       "      <th>RAD_koreha-24</th>\n",
       "      <th>RAD_koreha-3</th>\n",
       "      <th>RAD_koreha-4</th>\n",
       "      <th>RAD_koreha-5</th>\n",
       "      <th>RAD_koreha-6</th>\n",
       "      <th>RAD_koreha-7</th>\n",
       "      <th>RAD_koreha-8</th>\n",
       "    </tr>\n",
       "  </thead>\n",
       "  <tbody>\n",
       "    <tr>\n",
       "      <th>140</th>\n",
       "      <td>0.0</td>\n",
       "      <td>21.89</td>\n",
       "      <td>0</td>\n",
       "      <td>0.624</td>\n",
       "      <td>6.174</td>\n",
       "      <td>93.6</td>\n",
       "      <td>1.6119</td>\n",
       "      <td>437.0</td>\n",
       "      <td>21.2</td>\n",
       "      <td>388.08</td>\n",
       "      <td>24.16</td>\n",
       "      <td>0</td>\n",
       "      <td>0</td>\n",
       "      <td>0</td>\n",
       "      <td>0</td>\n",
       "      <td>1</td>\n",
       "      <td>0</td>\n",
       "      <td>0</td>\n",
       "      <td>0</td>\n",
       "      <td>0</td>\n",
       "    </tr>\n",
       "    <tr>\n",
       "      <th>206</th>\n",
       "      <td>0.0</td>\n",
       "      <td>10.59</td>\n",
       "      <td>0</td>\n",
       "      <td>0.489</td>\n",
       "      <td>6.326</td>\n",
       "      <td>52.5</td>\n",
       "      <td>4.3549</td>\n",
       "      <td>277.0</td>\n",
       "      <td>18.6</td>\n",
       "      <td>394.87</td>\n",
       "      <td>10.97</td>\n",
       "      <td>0</td>\n",
       "      <td>0</td>\n",
       "      <td>0</td>\n",
       "      <td>0</td>\n",
       "      <td>1</td>\n",
       "      <td>0</td>\n",
       "      <td>0</td>\n",
       "      <td>0</td>\n",
       "      <td>0</td>\n",
       "    </tr>\n",
       "    <tr>\n",
       "      <th>256</th>\n",
       "      <td>90.0</td>\n",
       "      <td>3.75</td>\n",
       "      <td>0</td>\n",
       "      <td>0.394</td>\n",
       "      <td>7.454</td>\n",
       "      <td>34.2</td>\n",
       "      <td>6.3361</td>\n",
       "      <td>244.0</td>\n",
       "      <td>15.9</td>\n",
       "      <td>386.34</td>\n",
       "      <td>3.11</td>\n",
       "      <td>0</td>\n",
       "      <td>0</td>\n",
       "      <td>0</td>\n",
       "      <td>1</td>\n",
       "      <td>0</td>\n",
       "      <td>0</td>\n",
       "      <td>0</td>\n",
       "      <td>0</td>\n",
       "      <td>0</td>\n",
       "    </tr>\n",
       "    <tr>\n",
       "      <th>170</th>\n",
       "      <td>0.0</td>\n",
       "      <td>19.58</td>\n",
       "      <td>0</td>\n",
       "      <td>0.605</td>\n",
       "      <td>5.875</td>\n",
       "      <td>94.6</td>\n",
       "      <td>2.4259</td>\n",
       "      <td>403.0</td>\n",
       "      <td>14.7</td>\n",
       "      <td>292.29</td>\n",
       "      <td>14.43</td>\n",
       "      <td>0</td>\n",
       "      <td>0</td>\n",
       "      <td>0</td>\n",
       "      <td>0</td>\n",
       "      <td>0</td>\n",
       "      <td>1</td>\n",
       "      <td>0</td>\n",
       "      <td>0</td>\n",
       "      <td>0</td>\n",
       "    </tr>\n",
       "    <tr>\n",
       "      <th>71</th>\n",
       "      <td>0.0</td>\n",
       "      <td>10.81</td>\n",
       "      <td>0</td>\n",
       "      <td>0.413</td>\n",
       "      <td>5.961</td>\n",
       "      <td>17.5</td>\n",
       "      <td>5.2873</td>\n",
       "      <td>305.0</td>\n",
       "      <td>19.2</td>\n",
       "      <td>376.94</td>\n",
       "      <td>9.88</td>\n",
       "      <td>0</td>\n",
       "      <td>0</td>\n",
       "      <td>0</td>\n",
       "      <td>0</td>\n",
       "      <td>1</td>\n",
       "      <td>0</td>\n",
       "      <td>0</td>\n",
       "      <td>0</td>\n",
       "      <td>0</td>\n",
       "    </tr>\n",
       "  </tbody>\n",
       "</table>\n",
       "</div>"
      ],
      "text/plain": [
       "       ZN  INDUS  CHAS    NOX     RM   AGE     DIS    TAX  PTRATIO       B  \\\n",
       "140   0.0  21.89     0  0.624  6.174  93.6  1.6119  437.0     21.2  388.08   \n",
       "206   0.0  10.59     0  0.489  6.326  52.5  4.3549  277.0     18.6  394.87   \n",
       "256  90.0   3.75     0  0.394  7.454  34.2  6.3361  244.0     15.9  386.34   \n",
       "170   0.0  19.58     0  0.605  5.875  94.6  2.4259  403.0     14.7  292.29   \n",
       "71    0.0  10.81     0  0.413  5.961  17.5  5.2873  305.0     19.2  376.94   \n",
       "\n",
       "     LSTAT  RAD_koreha-1  RAD_koreha-2  RAD_koreha-24  RAD_koreha-3  \\\n",
       "140  24.16             0             0              0             0   \n",
       "206  10.97             0             0              0             0   \n",
       "256   3.11             0             0              0             1   \n",
       "170  14.43             0             0              0             0   \n",
       "71    9.88             0             0              0             0   \n",
       "\n",
       "     RAD_koreha-4  RAD_koreha-5  RAD_koreha-6  RAD_koreha-7  RAD_koreha-8  \n",
       "140             1             0             0             0             0  \n",
       "206             1             0             0             0             0  \n",
       "256             0             0             0             0             0  \n",
       "170             0             1             0             0             0  \n",
       "71              1             0             0             0             0  "
      ]
     },
     "execution_count": 21,
     "metadata": {},
     "output_type": "execute_result"
    }
   ],
   "source": [
    "X_dropped = X.drop(\"CRIM\", axis = 1)\n",
    "X_dropped.head()"
   ]
  },
  {
   "cell_type": "code",
   "execution_count": null,
   "metadata": {},
   "outputs": [],
   "source": []
  },
  {
   "cell_type": "markdown",
   "metadata": {},
   "source": [
    "問：idをベースにdataframeをmergeしよう\n",
    "- sub:indexを取得してくる\n",
    "- sub:howでinner / outer / right / leftを指定して様子を観察する (onで指定したkeyに存在するデータが存在するかを確かめるもの)"
   ]
  },
  {
   "cell_type": "code",
   "execution_count": 24,
   "metadata": {},
   "outputs": [],
   "source": [
    "X_sub = X[[\"CRIM\"]]\n",
    "X_sub[\"num\"] = np.arange(0, len(X_sub), 1)"
   ]
  },
  {
   "cell_type": "code",
   "execution_count": 28,
   "metadata": {},
   "outputs": [],
   "source": [
    "X = X_sub.merge(X, on = \"CRIM\")"
   ]
  },
  {
   "cell_type": "code",
   "execution_count": 36,
   "metadata": {},
   "outputs": [],
   "source": [
    "num = np.arange(0,len(X),2)\n",
    "X_sub2 = X[[\"CRIM\"]]\n",
    "X_sub2[\"num\"] = np.arange(0, 2 * len(X), 2)"
   ]
  },
  {
   "cell_type": "code",
   "execution_count": 70,
   "metadata": {},
   "outputs": [],
   "source": [
    "df_ab = pd.DataFrame({'a': ['a_1', 'a_2', 'a_3'], 'b': ['b_1', 'b_2', 'b_3']})\n",
    "df_ac = pd.DataFrame({'a': ['a_1', 'a_2', 'a_4'], 'c': ['c_1', 'c_2', 'c_4']})"
   ]
  },
  {
   "cell_type": "code",
   "execution_count": 72,
   "metadata": {},
   "outputs": [
    {
     "data": {
      "text/html": [
       "<div>\n",
       "<style scoped>\n",
       "    .dataframe tbody tr th:only-of-type {\n",
       "        vertical-align: middle;\n",
       "    }\n",
       "\n",
       "    .dataframe tbody tr th {\n",
       "        vertical-align: top;\n",
       "    }\n",
       "\n",
       "    .dataframe thead th {\n",
       "        text-align: right;\n",
       "    }\n",
       "</style>\n",
       "<table border=\"1\" class=\"dataframe\">\n",
       "  <thead>\n",
       "    <tr style=\"text-align: right;\">\n",
       "      <th></th>\n",
       "      <th>a</th>\n",
       "      <th>b</th>\n",
       "    </tr>\n",
       "  </thead>\n",
       "  <tbody>\n",
       "    <tr>\n",
       "      <th>0</th>\n",
       "      <td>a_1</td>\n",
       "      <td>b_1</td>\n",
       "    </tr>\n",
       "    <tr>\n",
       "      <th>1</th>\n",
       "      <td>a_2</td>\n",
       "      <td>b_2</td>\n",
       "    </tr>\n",
       "    <tr>\n",
       "      <th>2</th>\n",
       "      <td>a_3</td>\n",
       "      <td>b_3</td>\n",
       "    </tr>\n",
       "  </tbody>\n",
       "</table>\n",
       "</div>"
      ],
      "text/plain": [
       "     a    b\n",
       "0  a_1  b_1\n",
       "1  a_2  b_2\n",
       "2  a_3  b_3"
      ]
     },
     "execution_count": 72,
     "metadata": {},
     "output_type": "execute_result"
    }
   ],
   "source": [
    "df_ab"
   ]
  },
  {
   "cell_type": "code",
   "execution_count": 73,
   "metadata": {},
   "outputs": [
    {
     "data": {
      "text/html": [
       "<div>\n",
       "<style scoped>\n",
       "    .dataframe tbody tr th:only-of-type {\n",
       "        vertical-align: middle;\n",
       "    }\n",
       "\n",
       "    .dataframe tbody tr th {\n",
       "        vertical-align: top;\n",
       "    }\n",
       "\n",
       "    .dataframe thead th {\n",
       "        text-align: right;\n",
       "    }\n",
       "</style>\n",
       "<table border=\"1\" class=\"dataframe\">\n",
       "  <thead>\n",
       "    <tr style=\"text-align: right;\">\n",
       "      <th></th>\n",
       "      <th>a</th>\n",
       "      <th>c</th>\n",
       "    </tr>\n",
       "  </thead>\n",
       "  <tbody>\n",
       "    <tr>\n",
       "      <th>0</th>\n",
       "      <td>a_1</td>\n",
       "      <td>c_1</td>\n",
       "    </tr>\n",
       "    <tr>\n",
       "      <th>1</th>\n",
       "      <td>a_2</td>\n",
       "      <td>c_2</td>\n",
       "    </tr>\n",
       "    <tr>\n",
       "      <th>2</th>\n",
       "      <td>a_4</td>\n",
       "      <td>c_4</td>\n",
       "    </tr>\n",
       "  </tbody>\n",
       "</table>\n",
       "</div>"
      ],
      "text/plain": [
       "     a    c\n",
       "0  a_1  c_1\n",
       "1  a_2  c_2\n",
       "2  a_4  c_4"
      ]
     },
     "execution_count": 73,
     "metadata": {},
     "output_type": "execute_result"
    }
   ],
   "source": [
    "df_ac"
   ]
  },
  {
   "cell_type": "code",
   "execution_count": 79,
   "metadata": {},
   "outputs": [
    {
     "name": "stdout",
     "output_type": "stream",
     "text": [
      "     a    b    c\n",
      "0  a_1  b_1  c_1\n",
      "1  a_2  b_2  c_2\n",
      "2  a_3  b_3  NaN\n",
      "3  a_4  NaN  c_4\n"
     ]
    }
   ],
   "source": [
    "print(pd.merge(df_ab, df_ac, on='a', how='outer'))\n",
    "test = pd.merge(df_ab, df_ac, on='a', how='outer')"
   ]
  },
  {
   "cell_type": "code",
   "execution_count": null,
   "metadata": {},
   "outputs": [],
   "source": []
  },
  {
   "cell_type": "markdown",
   "metadata": {},
   "source": [
    "欠損値を0で埋める若しくは欠落させる\n",
    "- testに対して行う"
   ]
  },
  {
   "cell_type": "code",
   "execution_count": 80,
   "metadata": {},
   "outputs": [
    {
     "data": {
      "text/plain": [
       "a    0\n",
       "b    1\n",
       "c    1\n",
       "dtype: int64"
      ]
     },
     "execution_count": 80,
     "metadata": {},
     "output_type": "execute_result"
    }
   ],
   "source": [
    "test.isnull().sum()"
   ]
  },
  {
   "cell_type": "code",
   "execution_count": 86,
   "metadata": {},
   "outputs": [
    {
     "data": {
      "text/html": [
       "<div>\n",
       "<style scoped>\n",
       "    .dataframe tbody tr th:only-of-type {\n",
       "        vertical-align: middle;\n",
       "    }\n",
       "\n",
       "    .dataframe tbody tr th {\n",
       "        vertical-align: top;\n",
       "    }\n",
       "\n",
       "    .dataframe thead th {\n",
       "        text-align: right;\n",
       "    }\n",
       "</style>\n",
       "<table border=\"1\" class=\"dataframe\">\n",
       "  <thead>\n",
       "    <tr style=\"text-align: right;\">\n",
       "      <th></th>\n",
       "      <th>a</th>\n",
       "      <th>b</th>\n",
       "      <th>c</th>\n",
       "    </tr>\n",
       "  </thead>\n",
       "  <tbody>\n",
       "    <tr>\n",
       "      <th>0</th>\n",
       "      <td>a_1</td>\n",
       "      <td>b_1</td>\n",
       "      <td>c_1</td>\n",
       "    </tr>\n",
       "    <tr>\n",
       "      <th>1</th>\n",
       "      <td>a_2</td>\n",
       "      <td>b_2</td>\n",
       "      <td>c_2</td>\n",
       "    </tr>\n",
       "    <tr>\n",
       "      <th>2</th>\n",
       "      <td>a_3</td>\n",
       "      <td>b_3</td>\n",
       "      <td>1</td>\n",
       "    </tr>\n",
       "    <tr>\n",
       "      <th>3</th>\n",
       "      <td>a_4</td>\n",
       "      <td>1</td>\n",
       "      <td>c_4</td>\n",
       "    </tr>\n",
       "  </tbody>\n",
       "</table>\n",
       "</div>"
      ],
      "text/plain": [
       "     a    b    c\n",
       "0  a_1  b_1  c_1\n",
       "1  a_2  b_2  c_2\n",
       "2  a_3  b_3    1\n",
       "3  a_4    1  c_4"
      ]
     },
     "execution_count": 86,
     "metadata": {},
     "output_type": "execute_result"
    }
   ],
   "source": [
    "# 欠損値をある値で埋める\n",
    "test.fillna(1)"
   ]
  },
  {
   "cell_type": "code",
   "execution_count": 85,
   "metadata": {},
   "outputs": [
    {
     "data": {
      "text/html": [
       "<div>\n",
       "<style scoped>\n",
       "    .dataframe tbody tr th:only-of-type {\n",
       "        vertical-align: middle;\n",
       "    }\n",
       "\n",
       "    .dataframe tbody tr th {\n",
       "        vertical-align: top;\n",
       "    }\n",
       "\n",
       "    .dataframe thead th {\n",
       "        text-align: right;\n",
       "    }\n",
       "</style>\n",
       "<table border=\"1\" class=\"dataframe\">\n",
       "  <thead>\n",
       "    <tr style=\"text-align: right;\">\n",
       "      <th></th>\n",
       "      <th>a</th>\n",
       "      <th>b</th>\n",
       "      <th>c</th>\n",
       "    </tr>\n",
       "  </thead>\n",
       "  <tbody>\n",
       "    <tr>\n",
       "      <th>0</th>\n",
       "      <td>a_1</td>\n",
       "      <td>b_1</td>\n",
       "      <td>c_1</td>\n",
       "    </tr>\n",
       "    <tr>\n",
       "      <th>1</th>\n",
       "      <td>a_2</td>\n",
       "      <td>b_2</td>\n",
       "      <td>c_2</td>\n",
       "    </tr>\n",
       "  </tbody>\n",
       "</table>\n",
       "</div>"
      ],
      "text/plain": [
       "     a    b    c\n",
       "0  a_1  b_1  c_1\n",
       "1  a_2  b_2  c_2"
      ]
     },
     "execution_count": 85,
     "metadata": {},
     "output_type": "execute_result"
    }
   ],
   "source": [
    "# 欠損値抜く\n",
    "test.dropna()"
   ]
  },
  {
   "cell_type": "code",
   "execution_count": null,
   "metadata": {},
   "outputs": [],
   "source": []
  },
  {
   "cell_type": "markdown",
   "metadata": {},
   "source": [
    "df.loc()・df.iloc()：基本で使う関数<br>\n",
    "\n",
    "df.at()・df.iat()：単独の値を変更するのに用いる．loc()やiloc()よりも高速だが１つの値しか書き換えれない．<br>\n",
    "\n",
    "df.ix()：インデックス・ラベルどちらでも指定可能．df.ix()は使わずにlocかiloc使った方が無難"
   ]
  },
  {
   "cell_type": "code",
   "execution_count": null,
   "metadata": {},
   "outputs": [],
   "source": []
  },
  {
   "cell_type": "markdown",
   "metadata": {},
   "source": [
    "groupy()の使い方\n",
    "（as_indexを含めて）"
   ]
  },
  {
   "cell_type": "code",
   "execution_count": 14,
   "metadata": {},
   "outputs": [],
   "source": [
    "# 適当なデータ作成\n",
    "df = pd.DataFrame({\n",
    "    'city': ['osaka', 'osaka', 'osaka', 'osaka', 'tokyo', 'tokyo', 'tokyo'],\n",
    "    'food': ['apple', 'orange', 'banana', 'banana', 'apple', 'apple', 'banana'],\n",
    "    'price': [100, 200, 250, 300, 150, 200, 400],\n",
    "    'quantity': [1, 2, 3, 4, 5, 6, 7]\n",
    "})"
   ]
  },
  {
   "cell_type": "code",
   "execution_count": 20,
   "metadata": {},
   "outputs": [
    {
     "name": "stdout",
     "output_type": "stream",
     "text": [
      "       price  quantity\n",
      "city                  \n",
      "osaka  212.5       2.5\n",
      "tokyo  250.0       6.0\n",
      "@@@@@@@@@@@@@@@@@@@@@@@@@@@@@@@@@@@@@@\n",
      "              price  quantity\n",
      "city  food                   \n",
      "osaka apple   100.0       1.0\n",
      "      banana  275.0       3.5\n",
      "      orange  200.0       2.0\n",
      "tokyo apple   175.0       5.5\n",
      "      banana  400.0       7.0\n",
      "@@@@@@@@@@@@@@@@@@@@@@@@@@@@@@@@@@@@@@\n",
      "    city    food  price  quantity\n",
      "0  osaka   apple  100.0       1.0\n",
      "1  osaka  banana  275.0       3.5\n",
      "2  osaka  orange  200.0       2.0\n",
      "3  tokyo   apple  175.0       5.5\n",
      "4  tokyo  banana  400.0       7.0\n"
     ]
    }
   ],
   "source": [
    "print(df.groupby('city').mean().head())\n",
    "\n",
    "print(\"@@@@@@@@@@@@@@@@@@@@@@@@@@@@@@@@@@@@@@\")\n",
    "print(df.groupby(['city', 'food']).mean())\n",
    "\n",
    "print(\"@@@@@@@@@@@@@@@@@@@@@@@@@@@@@@@@@@@@@@\")\n",
    "# デフォルドでは指定したカラムがインデックスになるが，避けたい時にas_index = Falseを使う\n",
    "print(df.groupby(['city', 'food'], as_index=False).mean())"
   ]
  },
  {
   "cell_type": "code",
   "execution_count": null,
   "metadata": {
    "collapsed": true
   },
   "outputs": [],
   "source": []
  },
  {
   "cell_type": "code",
   "execution_count": 24,
   "metadata": {},
   "outputs": [
    {
     "name": "stdout",
     "output_type": "stream",
     "text": [
      "{'osaka': Int64Index([0, 1, 2, 3], dtype='int64'), 'tokyo': Int64Index([4, 5, 6], dtype='int64')}\n",
      "@@@@@@@@@@@@@@@@@@@@@@@@@@@@@@@@@@@@@@\n",
      "    city    food  price  quantity\n",
      "0  osaka   apple    100         1\n",
      "1  osaka  orange    200         2\n",
      "2  osaka  banana    250         3\n",
      "3  osaka  banana    300         4\n",
      "@@@@@@@@@@@@@@@@@@@@@@@@@@@@@@@@@@@@@@\n",
      "city\n",
      "osaka    4\n",
      "tokyo    3\n",
      "dtype: int64\n"
     ]
    }
   ],
   "source": [
    "# どのようなgroupが出来たか確認する．\n",
    "print(df.groupby('city').groups)\n",
    "\n",
    "# あるgroupにどんな値が入ったかを確認する．\n",
    "print(\"@@@@@@@@@@@@@@@@@@@@@@@@@@@@@@@@@@@@@@\")\n",
    "print(df.groupby('city').get_group(\"osaka\"))\n",
    "\n",
    "# 各グループのサイズを取得\n",
    "print(\"@@@@@@@@@@@@@@@@@@@@@@@@@@@@@@@@@@@@@@\")\n",
    "print(df.groupby(\"city\").size())"
   ]
  },
  {
   "cell_type": "code",
   "execution_count": null,
   "metadata": {},
   "outputs": [],
   "source": []
  },
  {
   "cell_type": "markdown",
   "metadata": {},
   "source": [
    "Aggregation : agg()関数を使う\n",
    "- GroupBy.mean() のように、グループごとに値を求めて表を作るような操作を Aggregation と呼ぶ\n",
    "- .agg(['count', 'mean', 'max', 'min', 'sum'])とすれば，いちいちgroupby().mean()を何回も繰り返さなくても統計値が取得できる．\n",
    "- .columns.levels[0]と併せて"
   ]
  },
  {
   "cell_type": "code",
   "execution_count": null,
   "metadata": {},
   "outputs": [],
   "source": []
  },
  {
   "cell_type": "code",
   "execution_count": 29,
   "metadata": {},
   "outputs": [
    {
     "name": "stdout",
     "output_type": "stream",
     "text": [
      "       price  quantity\n",
      "city                  \n",
      "osaka  212.5       2.5\n",
      "tokyo  250.0       6.0\n",
      "@@@@@@@@@@@@@@@@@@@@@@@@@@@@@@@@@@@@@@\n",
      "       price  quantity\n",
      "city                  \n",
      "osaka  212.5        10\n",
      "tokyo  250.0        18\n"
     ]
    }
   ],
   "source": [
    "print(df.groupby(\"city\").agg(np.mean))\n",
    "print(\"@@@@@@@@@@@@@@@@@@@@@@@@@@@@@@@@@@@@@@\")\n",
    "\n",
    "def my_mean(s):\n",
    "    \"\"\"わざとらしいサンプル\"\"\"\n",
    "    return np.mean(s)\n",
    "\n",
    "# 複数指定する事も可能．\n",
    "# 関数を.agg()関数の引数に取ることも可能\n",
    "print(df.groupby('city').agg({'price': my_mean, 'quantity': np.sum}))"
   ]
  },
  {
   "cell_type": "markdown",
   "metadata": {},
   "source": [
    "★：https://qiita.com/propella/items/a9a32b878c77222630ae\n",
    "でさらに詳しい使い方を記載"
   ]
  },
  {
   "cell_type": "code",
   "execution_count": null,
   "metadata": {},
   "outputs": [],
   "source": []
  },
  {
   "cell_type": "markdown",
   "metadata": {},
   "source": [
    ".reset_index()の使い方\n"
   ]
  },
  {
   "cell_type": "code",
   "execution_count": null,
   "metadata": {},
   "outputs": [],
   "source": []
  },
  {
   "cell_type": "code",
   "execution_count": null,
   "metadata": {},
   "outputs": [],
   "source": []
  },
  {
   "cell_type": "markdown",
   "metadata": {},
   "source": [
    "bureau_agg.columns = columnsでカラムの名前を買える"
   ]
  },
  {
   "cell_type": "code",
   "execution_count": null,
   "metadata": {},
   "outputs": [],
   "source": []
  },
  {
   "cell_type": "code",
   "execution_count": null,
   "metadata": {},
   "outputs": [],
   "source": []
  }
 ],
 "metadata": {
  "kernelspec": {
   "display_name": "Python 3",
   "language": "python",
   "name": "python3"
  },
  "language_info": {
   "codemirror_mode": {
    "name": "ipython",
    "version": 3
   },
   "file_extension": ".py",
   "mimetype": "text/x-python",
   "name": "python",
   "nbconvert_exporter": "python",
   "pygments_lexer": "ipython3",
   "version": "3.6.9"
  }
 },
 "nbformat": 4,
 "nbformat_minor": 4
}
