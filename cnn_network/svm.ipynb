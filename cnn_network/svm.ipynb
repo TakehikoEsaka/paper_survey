{
 "cells": [
  {
   "cell_type": "code",
   "execution_count": 1,
   "metadata": {},
   "outputs": [
    {
     "name": "stderr",
     "output_type": "stream",
     "text": [
      "Using TensorFlow backend.\n"
     ]
    }
   ],
   "source": [
    "import numpy as np\n",
    "import matplotlib.pyplot as plt\n",
    "%matplotlib inline\n",
    "import keras\n",
    "from keras.datasets import mnist"
   ]
  },
  {
   "cell_type": "markdown",
   "metadata": {},
   "source": [
    "# data_load"
   ]
  },
  {
   "cell_type": "code",
   "execution_count": 2,
   "metadata": {},
   "outputs": [],
   "source": [
    "(x_train, y_train), (x_test, y_test) = mnist.load_data()\n",
    "(train_num, h, w) = x_train.shape\n",
    "(test_num, h, w) = x_test.shape\n",
    "x_train = x_train.reshape(train_num, h * w)\n",
    "x_test = x_test.reshape(test_num, h * w)"
   ]
  },
  {
   "cell_type": "markdown",
   "metadata": {},
   "source": [
    "# Dimension Reduction"
   ]
  },
  {
   "cell_type": "markdown",
   "metadata": {},
   "source": [
    "## 固有値観察"
   ]
  },
  {
   "cell_type": "code",
   "execution_count": 3,
   "metadata": {},
   "outputs": [
    {
     "name": "stdout",
     "output_type": "stream",
     "text": [
      "CPU times: user 5.57 s, sys: 1.88 s, total: 7.46 s\n",
      "Wall time: 3.1 s\n"
     ]
    }
   ],
   "source": [
    "%%time\n",
    "from sklearn.preprocessing import StandardScaler\n",
    "x_train_std = StandardScaler().fit_transform(x_train)\n",
    "\n",
    "mean_vec = np.mean(x_train_std, axis = 0)\n",
    "# 分散行列計算\n",
    "cov_mat = np.cov(x_train_std.T) # 画素のデータの次元を落としたいので転置\n",
    "eig_vals, eig_vecs = np.linalg.eig(cov_mat)\n",
    "eig_pairs = [ (np.abs(eig_vals[i]), eig_vecs[:,i] ) for i in range( len(eig_vals) )]\n",
    "\n",
    "eig_pairs.sort(key = lambda x: x[0], reverse= True)\n",
    "tot = sum(eig_vals)\n",
    "var_exp = [ (i/tot) * 100 for i in sorted(eig_vals, reverse = True)] # Individual explained variance\n",
    "cum_var_exp = np.cumsum(var_exp) # Cumulative explained variance"
   ]
  },
  {
   "cell_type": "code",
   "execution_count": 4,
   "metadata": {},
   "outputs": [
    {
     "data": {
      "text/plain": [
       "Text(0, 0.5, 'Individual Explained Variance')"
      ]
     },
     "execution_count": 4,
     "metadata": {},
     "output_type": "execute_result"
    },
    {
     "data": {
      "image/png": "[encoded data removed]",
      "text/plain": [
       "<Figure size 576x216 with 2 Axes>"
      ]
     },
     "metadata": {
      "needs_background": "light"
     },
     "output_type": "display_data"
    }
   ],
   "source": [
    "plt.figure(figsize=(8,3))\n",
    "\n",
    "plt.subplot(1,2,1)\n",
    "plt.plot(np.arange(784), cum_var_exp)\n",
    "plt.plot(np.arange(784), np.ones(784) * 90, c = 'k', linestyle = \"--\")\n",
    "plt.xlabel(\"component index\")\n",
    "plt.ylabel(\"Cumulative Explained Variance\")\n",
    "\n",
    "plt.subplot(1,2,2)\n",
    "plt.plot(np.arange(784), var_exp)\n",
    "plt.xlabel(\"component index\")\n",
    "plt.ylabel(\"Individual Explained Variance\")"
   ]
  },
  {
   "cell_type": "code",
   "execution_count": 5,
   "metadata": {},
   "outputs": [],
   "source": [
    "n_components = 300"
   ]
  },
  {
   "cell_type": "code",
   "execution_count": null,
   "metadata": {},
   "outputs": [],
   "source": []
  },
  {
   "cell_type": "markdown",
   "metadata": {},
   "source": [
    "## Dimension Reduction"
   ]
  },
  {
   "cell_type": "code",
   "execution_count": 13,
   "metadata": {},
   "outputs": [
    {
     "name": "stdout",
     "output_type": "stream",
     "text": [
      "(300, 784)\n",
      "CPU times: user 40.2 s, sys: 8.78 s, total: 48.9 s\n",
      "Wall time: 14.8 s\n"
     ]
    }
   ],
   "source": [
    "%%time\n",
    "from sklearn.decomposition import PCA\n",
    "pca = PCA(n_components=n_components).fit(x_train)\n",
    "print(pca.components_.shape) # feature * data\n",
    "eigenvalues = pca.components_\n",
    "x_train_recon = x_train @ eigenvalues.T #reconは90%データを表現出来ている事が分かる．\n",
    "train_dim = x_train_recon.shape[0]"
   ]
  },
  {
   "cell_type": "code",
   "execution_count": 18,
   "metadata": {},
   "outputs": [
    {
     "name": "stdout",
     "output_type": "stream",
     "text": [
      "(300, 784)\n",
      "CPU times: user 7.78 s, sys: 3.87 s, total: 11.7 s\n",
      "Wall time: 3.55 s\n"
     ]
    }
   ],
   "source": [
    "%%time\n",
    "pca = PCA(n_components=n_components).fit(x_test)\n",
    "print(pca.components_.shape) # feature * data\n",
    "eigenvalues = pca.components_\n",
    "x_test_recon = x_test @ eigenvalues.T #reconは90%データを表現出来ている事が分かる．\n",
    "test_dim = x_test_recon.shape[0]"
   ]
  },
  {
   "cell_type": "code",
   "execution_count": null,
   "metadata": {},
   "outputs": [],
   "source": []
  },
  {
   "cell_type": "markdown",
   "metadata": {},
   "source": [
    "# SVM"
   ]
  },
  {
   "cell_type": "code",
   "execution_count": 19,
   "metadata": {},
   "outputs": [],
   "source": [
    "from sklearn import svm, metrics"
   ]
  },
  {
   "cell_type": "code",
   "execution_count": 20,
   "metadata": {},
   "outputs": [],
   "source": [
    "train_num_slice = slice(0,1000,1)"
   ]
  },
  {
   "cell_type": "code",
   "execution_count": 16,
   "metadata": {},
   "outputs": [
    {
     "name": "stdout",
     "output_type": "stream",
     "text": [
      "training\n",
      "predicting\n",
      "CPU times: user 3.73 s, sys: 15.4 ms, total: 3.74 s\n",
      "Wall time: 3.74 s\n"
     ]
    }
   ],
   "source": [
    "%%time\n",
    "print(\"training\")\n",
    "clf = svm.SVC()\n",
    "clf.fit(x_train_recon[train_num_slice], y_train[train_num_slice])\n",
    "\n",
    "print(\"predicting\")\n",
    "predict = clf.predict(x_test_recon)\n",
    "\n",
    "ac_score = metrics.accuracy_score(y_test, predict)\n",
    "cl_report = metrics.classification_report(y_test, predict)"
   ]
  },
  {
   "cell_type": "code",
   "execution_count": 17,
   "metadata": {},
   "outputs": [
    {
     "name": "stdout",
     "output_type": "stream",
     "text": [
      "正解率 =  0.1216\n",
      "              precision    recall  f1-score   support\n",
      "\n",
      "           0       0.75      0.79      0.77       980\n",
      "           1       0.00      0.00      0.00      1135\n",
      "           2       0.08      0.06      0.07      1032\n",
      "           3       0.05      0.13      0.07      1010\n",
      "           4       0.01      0.01      0.01       982\n",
      "           5       0.08      0.11      0.09       892\n",
      "           6       0.21      0.08      0.12       958\n",
      "           7       0.04      0.04      0.04      1028\n",
      "           8       0.00      0.00      0.00       974\n",
      "           9       0.01      0.01      0.01      1009\n",
      "\n",
      "    accuracy                           0.12     10000\n",
      "   macro avg       0.12      0.12      0.12     10000\n",
      "weighted avg       0.12      0.12      0.12     10000\n",
      "\n"
     ]
    }
   ],
   "source": [
    "print(\"正解率 = \", ac_score)\n",
    "print(cl_report)"
   ]
  },
  {
   "cell_type": "code",
   "execution_count": null,
   "metadata": {},
   "outputs": [],
   "source": []
  },
  {
   "cell_type": "code",
   "execution_count": null,
   "metadata": {},
   "outputs": [],
   "source": []
  },
  {
   "cell_type": "markdown",
   "metadata": {},
   "source": [
    "TIPS"
   ]
  },
  {
   "cell_type": "code",
   "execution_count": null,
   "metadata": {},
   "outputs": [],
   "source": [
    "# mnistのデータ\n",
    "(x_train, y_train), (x_test, y_test) = mnist.load_data() "
   ]
  },
  {
   "cell_type": "code",
   "execution_count": null,
   "metadata": {},
   "outputs": [],
   "source": [
    "%%time\n",
    "from sklearn.preprocessing import StandardScaler\n",
    "x_train_std = StandardScaler().fit_transform(x_train)\n",
    "\n",
    "mean_vec = np.mean(x_train_std, axis = 0)\n",
    "# 分散行列計算\n",
    "cov_mat = np.cov(x_train_std.T) # 画素のデータの次元を落としたいので転置\n",
    "eig_vals, eig_vecs = np.linalg.eig(cov_mat)\n",
    "eig_pairs = [ (np.abs(eig_vals[i]), eig_vecs[:,i] ) for i in range( len(eig_vals) )]\n",
    "\n",
    "eig_pairs.sort(key = lambda x: x[0], reverse= True)\n",
    "tot = sum(eig_vals)\n",
    "var_exp = [ (i/tot) * 100 for i in sorted(eig_vals, reverse = True)] # Individual explained variance\n",
    "cum_var_exp = np.cumsum(var_exp) # Cumulative explained variance\n"
   ]
  },
  {
   "cell_type": "code",
   "execution_count": 39,
   "metadata": {},
   "outputs": [
    {
     "ename": "TypeError",
     "evalue": "fit_transform() missing 1 required positional argument: 'X'",
     "output_type": "error",
     "traceback": [
      "\u001b[0;31m---------------------------------------------------------------------------\u001b[0m",
      "\u001b[0;31mTypeError\u001b[0m                                 Traceback (most recent call last)",
      "\u001b[0;32m<ipython-input-39-ecb70dda7596>\u001b[0m in \u001b[0;36m<module>\u001b[0;34m\u001b[0m\n\u001b[1;32m      2\u001b[0m \u001b[0;31m# fitは数値計算の実行，transformは正規化の実行．\u001b[0m\u001b[0;34m\u001b[0m\u001b[0;34m\u001b[0m\u001b[0;34m\u001b[0m\u001b[0m\n\u001b[1;32m      3\u001b[0m \u001b[0;31m# trainを正規化したmaxとminでtestを正規化する必要があるので，trainはfitしてもtesth\u001b[0m\u001b[0;34m\u001b[0m\u001b[0;34m\u001b[0m\u001b[0;34m\u001b[0m\u001b[0m\n\u001b[0;32m----> 4\u001b[0;31m \u001b[0mPCA\u001b[0m\u001b[0;34m.\u001b[0m\u001b[0mfit_transform\u001b[0m\u001b[0;34m(\u001b[0m\u001b[0mx_train\u001b[0m\u001b[0;34m)\u001b[0m\u001b[0;34m\u001b[0m\u001b[0;34m\u001b[0m\u001b[0m\n\u001b[0m\u001b[1;32m      5\u001b[0m \u001b[0mPCA\u001b[0m\u001b[0;34m.\u001b[0m\u001b[0mfit\u001b[0m\u001b[0;34m(\u001b[0m\u001b[0;34m)\u001b[0m\u001b[0;34m\u001b[0m\u001b[0;34m\u001b[0m\u001b[0m\n\u001b[1;32m      6\u001b[0m \u001b[0mPCA\u001b[0m\u001b[0;34m.\u001b[0m\u001b[0mtransform\u001b[0m\u001b[0;34m(\u001b[0m\u001b[0;34m)\u001b[0m\u001b[0;34m\u001b[0m\u001b[0;34m\u001b[0m\u001b[0m\n",
      "\u001b[0;31mTypeError\u001b[0m: fit_transform() missing 1 required positional argument: 'X'"
     ]
    }
   ],
   "source": [
    "# 以下の違い説明出来るか？\n",
    "# fitは数値計算の実行，transformは正規化の実行．\n",
    "# trainを正規化したmaxとminでtestを正規化する必要があるので，trainはfitしてもtestはfit_transformするべき\n",
    "PCA.fit_transform(x_train)\n",
    "PCA.fit()\n",
    "PCA.transform()"
   ]
  }
 ],
 "metadata": {
  "kernelspec": {
   "display_name": "Python 3",
   "language": "python",
   "name": "python3"
  },
  "language_info": {
   "codemirror_mode": {
    "name": "ipython",
    "version": 3
   },
   "file_extension": ".py",
   "mimetype": "text/x-python",
   "name": "python",
   "nbconvert_exporter": "python",
   "pygments_lexer": "ipython3",
   "version": "3.6.8"
  }
 },
 "nbformat": 4,
 "nbformat_minor": 4
}
