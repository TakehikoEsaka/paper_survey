{
 "cells": [
  {
   "cell_type": "code",
   "execution_count": 1,
   "metadata": {},
   "outputs": [],
   "source": [
    "import sqlite3"
   ]
  },
  {
   "cell_type": "code",
   "execution_count": 2,
   "metadata": {},
   "outputs": [
    {
     "name": "stdout",
     "output_type": "stream",
     "text": [
      "table persons already exists\n"
     ]
    }
   ],
   "source": [
    "# コネクションオブジェクト作成\n",
    "conn = sqlite3.connect('./line_bot.sqlite3')\n",
    "\n",
    "#cursor オブジェクト作成: 命令送る用\n",
    "c = conn.cursor() \n",
    "\n",
    "# テーブル作成\n",
    "try:\n",
    "    c.execute(\"create table persons(id interger primary key, name text)\")\n",
    "except: \n",
    "    print(\"table persons already exists\")"
   ]
  },
  {
   "cell_type": "code",
   "execution_count": 3,
   "metadata": {},
   "outputs": [
    {
     "data": {
      "text/plain": [
       "<sqlite3.Cursor at 0x7fe2406e9650>"
      ]
     },
     "execution_count": 3,
     "metadata": {},
     "output_type": "execute_result"
    }
   ],
   "source": [
    "# 変数の代入\n",
    "id_1 = \"abcdef\"\n",
    "name = \"えさかたけひこ\"\n",
    "\n",
    "# レコード追加\n",
    "c.execute(\"insert into persons values( ?, ? )\", [ id_1, name ])"
   ]
  },
  {
   "cell_type": "code",
   "execution_count": 4,
   "metadata": {},
   "outputs": [
    {
     "name": "stdout",
     "output_type": "stream",
     "text": [
      "[('abcdef', 'えさかたけひこ')]\n"
     ]
    }
   ],
   "source": [
    "# レコード読込み\n",
    "c.execute(\"select * from persons\")\n",
    "\n",
    "# fetch_allでリストを取得\n",
    "comment_list = c.fetchall()\n",
    "print(comment_list)\n",
    "\n",
    "# 全体のDBへコミット\n",
    "conn.commit()\n",
    "\n",
    "# 接続切る\n",
    "c.close()\n",
    "conn.close()"
   ]
  },
  {
   "cell_type": "code",
   "execution_count": null,
   "metadata": {},
   "outputs": [],
   "source": []
  },
  {
   "cell_type": "markdown",
   "metadata": {},
   "source": [
    "2つめのテーブル作成"
   ]
  },
  {
   "cell_type": "code",
   "execution_count": 5,
   "metadata": {},
   "outputs": [],
   "source": [
    "# もう一回接続\n",
    "conn = sqlite3.connect('line_bot.sqlite3')\n",
    "c_2 = conn.cursor()"
   ]
  },
  {
   "cell_type": "code",
   "execution_count": 6,
   "metadata": {},
   "outputs": [
    {
     "data": {
      "text/plain": [
       "[('abcdef', 'えさかたけひこ')]"
      ]
     },
     "execution_count": 6,
     "metadata": {},
     "output_type": "execute_result"
    }
   ],
   "source": [
    "c_2.execute(\"select * from persons\")\n",
    "comment_list = c_2.fetchall()\n",
    "comment_list"
   ]
  },
  {
   "cell_type": "code",
   "execution_count": 9,
   "metadata": {},
   "outputs": [],
   "source": [
    "#cursor オブジェクト作成: 命令送る用\n",
    "c_2 = conn.cursor() \n",
    "\n",
    "# テーブル削除\n",
    "c_2.execute('drop table answers')\n",
    "\n",
    "# テーブル作成 (外部キーをつける)\n",
    "try:\n",
    "    c_2.execute(\"create table answers( \\\n",
    "            id interger, \\\n",
    "            answers1 text, \\\n",
    "            answers2 text, \\\n",
    "            foreign key(id) references persons(id) \\\n",
    "            )\")\n",
    "except:\n",
    "    print(\"couldn't make table answers\")"
   ]
  },
  {
   "cell_type": "code",
   "execution_count": 16,
   "metadata": {},
   "outputs": [
    {
     "data": {
      "text/plain": [
       "<sqlite3.Cursor at 0x7fe2406e9420>"
      ]
     },
     "execution_count": 16,
     "metadata": {},
     "output_type": "execute_result"
    }
   ],
   "source": [
    "id_2 = \"stu\"\n",
    "ans1 = \"good\"\n",
    "ans2 = \"so so\"\n",
    "\n",
    "c_2.execute(\"insert into answers values( ?, ? , ?)\",[ id_2, ans1 , ans2])"
   ]
  },
  {
   "cell_type": "code",
   "execution_count": 17,
   "metadata": {},
   "outputs": [
    {
     "data": {
      "text/plain": [
       "[('abcdef', 'えさかたけひこ', 'えさかたけひこ'), ('stu', 'good', 'so so')]"
      ]
     },
     "execution_count": 17,
     "metadata": {},
     "output_type": "execute_result"
    }
   ],
   "source": [
    "c_2.execute(\"select * from answers\")\n",
    "comment_list = c_2.fetchall()\n",
    "comment_list"
   ]
  },
  {
   "cell_type": "code",
   "execution_count": 19,
   "metadata": {},
   "outputs": [],
   "source": [
    "# レコード読込み\n",
    "c_2.execute(\"select * from persons\")\n",
    "oya_list = c_2.fetchall()"
   ]
  },
  {
   "cell_type": "code",
   "execution_count": 20,
   "metadata": {},
   "outputs": [
    {
     "data": {
      "text/plain": [
       "[('abcdef', 'えさかたけひこ')]"
      ]
     },
     "execution_count": 20,
     "metadata": {},
     "output_type": "execute_result"
    }
   ],
   "source": [
    "oya_list"
   ]
  },
  {
   "cell_type": "code",
   "execution_count": null,
   "metadata": {},
   "outputs": [],
   "source": [
    "c = conn.cursor()"
   ]
  },
  {
   "cell_type": "code",
   "execution_count": null,
   "metadata": {},
   "outputs": [],
   "source": []
  },
  {
   "cell_type": "code",
   "execution_count": null,
   "metadata": {},
   "outputs": [],
   "source": []
  },
  {
   "cell_type": "code",
   "execution_count": null,
   "metadata": {},
   "outputs": [],
   "source": []
  },
  {
   "cell_type": "markdown",
   "metadata": {},
   "source": [
    "* 外部キーの入った子テーブルでは，idを全て消さないと親テーブルを消去する事は出来ない．\n",
    "* 外部キーの入った子テーブル外部キーに，直接値を代入する事は出来ない．"
   ]
  },
  {
   "cell_type": "code",
   "execution_count": null,
   "metadata": {},
   "outputs": [],
   "source": []
  },
  {
   "cell_type": "code",
   "execution_count": 35,
   "metadata": {},
   "outputs": [
    {
     "ename": "OperationalError",
     "evalue": "no such table: persons",
     "output_type": "error",
     "traceback": [
      "\u001b[0;31m---------------------------------------------------------------------------\u001b[0m",
      "\u001b[0;31mOperationalError\u001b[0m                          Traceback (most recent call last)",
      "\u001b[0;32m<ipython-input-35-450c6c8778d8>\u001b[0m in \u001b[0;36m<module>\u001b[0;34m\u001b[0m\n\u001b[1;32m      1\u001b[0m \u001b[0;31m# テーブル削除\u001b[0m\u001b[0;34m\u001b[0m\u001b[0;34m\u001b[0m\u001b[0;34m\u001b[0m\u001b[0m\n\u001b[0;32m----> 2\u001b[0;31m \u001b[0mc\u001b[0m\u001b[0;34m.\u001b[0m\u001b[0mexecute\u001b[0m\u001b[0;34m(\u001b[0m\u001b[0;34m'drop table persons'\u001b[0m\u001b[0;34m)\u001b[0m\u001b[0;34m\u001b[0m\u001b[0;34m\u001b[0m\u001b[0m\n\u001b[0m",
      "\u001b[0;31mOperationalError\u001b[0m: no such table: persons"
     ]
    }
   ],
   "source": [
    "# テーブル削除\n",
    "c.execute('drop table persons')\n",
    "\n",
    "# データベース削除\n"
   ]
  },
  {
   "cell_type": "code",
   "execution_count": null,
   "metadata": {},
   "outputs": [],
   "source": []
  }
 ],
 "metadata": {
  "kernelspec": {
   "display_name": "Python 3",
   "language": "python",
   "name": "python3"
  },
  "language_info": {
   "codemirror_mode": {
    "name": "ipython",
    "version": 3
   },
   "file_extension": ".py",
   "mimetype": "text/x-python",
   "name": "python",
   "nbconvert_exporter": "python",
   "pygments_lexer": "ipython3",
   "version": "3.6.8"
  }
 },
 "nbformat": 4,
 "nbformat_minor": 4
}
